{
 "cells": [
  {
   "cell_type": "code",
   "execution_count": 1,
   "metadata": {},
   "outputs": [],
   "source": [
    "# Generate the Measurements for each file\n",
    "# Save in the current folder\n",
    "# *** Run Only when the file not exists"
   ]
  },
  {
   "cell_type": "code",
   "execution_count": 2,
   "metadata": {},
   "outputs": [],
   "source": [
    "## Future\n",
    "# Missing:\n",
    "# Agregate in the existent File other Measures\n",
    "### Two level checks\n",
    "#1 check the if the file exist => if not calculate all measurements and create the file\n",
    "#2 check into the Measure file if the colunm existi => if not, agregate the new colunm"
   ]
  },
  {
   "cell_type": "code",
   "execution_count": 3,
   "metadata": {},
   "outputs": [],
   "source": [
    "# This Module contain the basic modules for test and prototype\n",
    "# 00-Index-Path\n",
    "# 00-Basic-Read-VD-Features\n",
    "# 00 - Measure Basic from One-File"
   ]
  },
  {
   "cell_type": "code",
   "execution_count": 1,
   "metadata": {},
   "outputs": [],
   "source": [
    "import time\n",
    "import os\n",
    "import numpy as np\n",
    "import sys\n",
    "import pandas as pd\n",
    "import glob"
   ]
  },
  {
   "cell_type": "code",
   "execution_count": 2,
   "metadata": {},
   "outputs": [],
   "source": [
    "# Collect the base\n",
    "def collect_current_path (original_path):\n",
    "    xpath = original_path.split(os.sep)\n",
    "    new_path = ''\n",
    "    ii=0\n",
    "    for parts in xpath:\n",
    "        if ii <= len(xpath)-2:\n",
    "            new_path += parts + str(os.sep)\n",
    "        ii += 1\n",
    "    # Return\n",
    "    return new_path\n",
    "#<chg"
   ]
  },
  {
   "cell_type": "code",
   "execution_count": 3,
   "metadata": {},
   "outputs": [],
   "source": [
    "# Scan Folder and Find\n",
    "def list_scan_from_path (baseDir, file_name):\n",
    "    ## 1.VD_FEATURES_Lx.CSV\n",
    "    MAIN_VD_FEATURES_LX = []\n",
    "    # Scan the Folder and Save the list[]\n",
    "    FOLDER_CSV_SCAN = glob.iglob( baseDir + os.sep + '**' + os.sep + '*.CSV', recursive=True )\n",
    "    # Order By Name\n",
    "    FOLDER_CSV_SCAN = sorted(FOLDER_CSV_SCAN)\n",
    "    # Interate frame by frame\n",
    "    for filename in FOLDER_CSV_SCAN:\n",
    "        #print (filename.find('VD_INFO') != -1)\n",
    "        if (filename.find(file_name) != -1) == True:\n",
    "            #print (filename)\n",
    "            MAIN_VD_FEATURES_LX.append(filename)\n",
    "        #\n",
    "    # Return the list\n",
    "    return MAIN_VD_FEATURES_LX\n",
    "#"
   ]
  },
  {
   "cell_type": "code",
   "execution_count": 4,
   "metadata": {},
   "outputs": [],
   "source": [
    "# Measure loop from file\n",
    "def measure_two_points_from_csv (path_csv_file, LANDMK_INIT_PT, LANDMK_ENDD_PT, measure_name):\n",
    "    # Read the Dataframe from CSV\n",
    "    csv_data_frame_in = pd.read_csv(path_csv_file)\n",
    "    # Remove the Unamed columns\n",
    "    csv_data_frame_in.drop(columns=[\"Unnamed: 0\"], inplace=True)\n",
    "    # Calculate the Number Of Frames\n",
    "    NUMBER_OF_FRAMES_IN = len(csv_data_frame_in)\n",
    "    # Measurements path\n",
    "    CSV_IN_MEASUREMENTS = []\n",
    "    # \n",
    "    # Iterate and Measure\n",
    "    for idx in range(0, NUMBER_OF_FRAMES_IN):\n",
    "        # INIT Point XY\n",
    "        POINT_INIT_XYLMK = np.asarray(eval(csv_data_frame_in[str(LANDMK_INIT_PT)][idx]))\n",
    "        # END Point XY\n",
    "        POINT_ENDD_XYLMK = np.asarray(eval(csv_data_frame_in[str(LANDMK_ENDD_PT)][idx]))\n",
    "        # Measure\n",
    "        distance_open_mouth_basic = np.linalg.norm(POINT_ENDD_XYLMK - POINT_INIT_XYLMK) \n",
    "        # Append in the array\n",
    "        CSV_IN_MEASUREMENTS.append(distance_open_mouth_basic)\n",
    "        #print (distance_open_mouth_basic)\n",
    "    #\n",
    "    # Create a DataFrame\n",
    "    MEASURE_RESULTS_DATA_FRAME = pd.DataFrame(CSV_IN_MEASUREMENTS, columns=[measure_name])\n",
    "    # Return\n",
    "    return MEASURE_RESULTS_DATA_FRAME\n",
    "#"
   ]
  },
  {
   "cell_type": "code",
   "execution_count": 5,
   "metadata": {},
   "outputs": [],
   "source": [
    "# Meause vertical using mean of two arras\n",
    "def measure_vertical_two_arrays_mean (path_csv_file, POINT_ARRAY_INIT, POINT_ARRAY_ENDD, measure_name):\n",
    "    # Read the Dataframe from CSV\n",
    "    csv_data_frame_in = pd.read_csv(path_csv_file)\n",
    "    # Remove the Unamed columns\n",
    "    csv_data_frame_in.drop(columns=[\"Unnamed: 0\"], inplace=True)\n",
    "    # Calculate the Number Of Frames\n",
    "    NUMBER_OF_FRAMES_IN = len(csv_data_frame_in)\n",
    "    # Measurements path\n",
    "    CSV_IN_MEASUREMENTS = []\n",
    "    # \n",
    "    # Iterate and Measure\n",
    "    for idx in range(0, NUMBER_OF_FRAMES_IN):\n",
    "\n",
    "        # INIT Point Y\n",
    "        VALUE_Y_INIT = []\n",
    "        for curr_colect in POINT_ARRAY_INIT:\n",
    "            basic_to_add = np.asarray(eval(csv_data_frame_in[str(curr_colect)][idx]))\n",
    "            VALUE_Y_INIT.append (basic_to_add[1])\n",
    "            #print (basic_to_add)\n",
    "\n",
    "        #print('-')\n",
    "\n",
    "        # END Point Y\n",
    "        VALUE_Y_ENDD = []\n",
    "        for curr_colect in POINT_ARRAY_ENDD:\n",
    "            basic_to_add = np.asarray(eval(csv_data_frame_in[str(curr_colect)][idx]))\n",
    "            VALUE_Y_ENDD.append (basic_to_add[1])\n",
    "            #print (basic_to_add)\n",
    "\n",
    "        # calculate the mean\n",
    "        mean_initial = np.mean(VALUE_Y_INIT)\n",
    "        mean_endd = np.mean(VALUE_Y_ENDD)\n",
    "\n",
    "        # Measure\n",
    "        distance_open_mouth_basic = abs(mean_initial - mean_endd)\n",
    "        # Append in the array\n",
    "        CSV_IN_MEASUREMENTS.append(distance_open_mouth_basic)\n",
    "        #print (distance_open_mouth_basic)\n",
    "    #\n",
    "    # Create a DataFrame\n",
    "    MEASURE_RESULTS_DATA_FRAME = pd.DataFrame(CSV_IN_MEASUREMENTS, columns=[measure_name])\n",
    "    # Return\n",
    "    return MEASURE_RESULTS_DATA_FRAME\n",
    "    #\n",
    "#"
   ]
  },
  {
   "cell_type": "code",
   "execution_count": 9,
   "metadata": {},
   "outputs": [],
   "source": [
    "# Function to check if exists in the lists\n",
    "def check_missing_measures_list (MAIN_LIST_FEATURE, file_name_measur):\n",
    "    # Create a missing list\n",
    "    MISSIN_LIST_COMPARE = []\n",
    "    # Generate the Compare Result\n",
    "    for list_feature_curr in MAIN_LIST_FEATURE:\n",
    "        path_feature_compare1 = collect_current_path(list_feature_curr)\n",
    "        check_result = list_scan_from_path (path_feature_compare1, file_name_measur)\n",
    "        if check_result == []:\n",
    "            #print (path_feature_compare1)\n",
    "            MISSIN_LIST_COMPARE.append(list_feature_curr)\n",
    "        #print(check_result)\n",
    "    # return\n",
    "    return MISSIN_LIST_COMPARE\n",
    "#"
   ]
  },
  {
   "cell_type": "code",
   "execution_count": 10,
   "metadata": {},
   "outputs": [],
   "source": [
    "#\n",
    "## 1.VD_FEATURES_Lx.CSV\n",
    "MAIN_LIST_FEATURE = []\n",
    "# Define the name of output csv file\n",
    "output_measure_name = 'VD_MEASURE_L0'"
   ]
  },
  {
   "cell_type": "code",
   "execution_count": 11,
   "metadata": {},
   "outputs": [],
   "source": [
    "# File_name to find\n",
    "file_name_fd = 'VD_FEATURES_L2'\n",
    "\n",
    "########## - Find only in DD-Local and - YT\n",
    "# Break 1 - Exclude the Folder of References\n",
    "# Variables\n",
    "# B1.1 - Collect in DD-Local\n",
    "baseDir = '..' + os.sep + 'Dataset' + os.sep + 'DD-Local' + os.sep\n",
    "# Call the basic function\n",
    "MAIN_LIST_FEATURE_local = list_scan_from_path (baseDir, file_name_fd)\n",
    "\n",
    "# Variables\n",
    "# B1.2 - Collect in YT\n",
    "baseDir = '..' + os.sep + 'Dataset' + os.sep + 'YT-Online' + os.sep\n",
    "# Call the basic function\n",
    "MAIN_LIST_FEATURE_yt = list_scan_from_path (baseDir, file_name_fd)\n",
    "\n",
    "# Join the Two Lists\n",
    "MAIN_LIST_FEATURE = MAIN_LIST_FEATURE_local + MAIN_LIST_FEATURE_yt"
   ]
  },
  {
   "cell_type": "code",
   "execution_count": 12,
   "metadata": {},
   "outputs": [
    {
     "data": {
      "text/plain": [
       "['..\\\\Dataset\\\\DD-Local\\\\VD_D_0000000001\\\\VD_FEATURES_L2.CSV',\n",
       " '..\\\\Dataset\\\\DD-Local\\\\VD_D_0000000002\\\\VD_FEATURES_L2.CSV',\n",
       " '..\\\\Dataset\\\\DD-Local\\\\VD_D_0000000003\\\\VD_FEATURES_L2.CSV',\n",
       " '..\\\\Dataset\\\\YT-Online\\\\VD_Y_0000000001\\\\VD_FEATURES_L2.CSV',\n",
       " '..\\\\Dataset\\\\YT-Online\\\\VD_Y_0000000002\\\\VD_FEATURES_L2.CSV']"
      ]
     },
     "execution_count": 12,
     "metadata": {},
     "output_type": "execute_result"
    }
   ],
   "source": [
    "MAIN_LIST_FEATURE"
   ]
  },
  {
   "cell_type": "code",
   "execution_count": 13,
   "metadata": {},
   "outputs": [],
   "source": [
    "#\n",
    "### ENABLE AND DISABLE if want update all\n",
    "#### if want update only the diferente, use this command, if not #comment\n",
    "####\n",
    "#####\n",
    "\n",
    "# Update Main LIST Feature with the missing Measures in the folder tree\n",
    "# MAIN_LIST_FEATURE = check_missing_measures_list (MAIN_LIST_FEATURE, output_measure_name)"
   ]
  },
  {
   "cell_type": "code",
   "execution_count": 14,
   "metadata": {},
   "outputs": [
    {
     "data": {
      "text/plain": [
       "['..\\\\Dataset\\\\DD-Local\\\\VD_D_0000000001\\\\VD_FEATURES_L2.CSV',\n",
       " '..\\\\Dataset\\\\DD-Local\\\\VD_D_0000000002\\\\VD_FEATURES_L2.CSV',\n",
       " '..\\\\Dataset\\\\DD-Local\\\\VD_D_0000000003\\\\VD_FEATURES_L2.CSV',\n",
       " '..\\\\Dataset\\\\YT-Online\\\\VD_Y_0000000001\\\\VD_FEATURES_L2.CSV',\n",
       " '..\\\\Dataset\\\\YT-Online\\\\VD_Y_0000000002\\\\VD_FEATURES_L2.CSV']"
      ]
     },
     "execution_count": 14,
     "metadata": {},
     "output_type": "execute_result"
    }
   ],
   "source": [
    "MAIN_LIST_FEATURE"
   ]
  },
  {
   "cell_type": "code",
   "execution_count": 15,
   "metadata": {},
   "outputs": [],
   "source": [
    "#\n",
    "## For each file VD_FEATURES_L1 found create the measurements\n",
    "###"
   ]
  },
  {
   "cell_type": "code",
   "execution_count": 16,
   "metadata": {},
   "outputs": [
    {
     "name": "stdout",
     "output_type": "stream",
     "text": [
      "1 of 5: ..\\Dataset\\DD-Local\\VD_D_0000000001\\VD_MEASURE_L0\n",
      "1 of 5: ..\\Dataset\\DD-Local\\VD_D_0000000002\\VD_MEASURE_L0\n",
      "1 of 5: ..\\Dataset\\DD-Local\\VD_D_0000000003\\VD_MEASURE_L0\n",
      "1 of 5: ..\\Dataset\\YT-Online\\VD_Y_0000000001\\VD_MEASURE_L0\n",
      "1 of 5: ..\\Dataset\\YT-Online\\VD_Y_0000000002\\VD_MEASURE_L0\n"
     ]
    }
   ],
   "source": [
    "ptr = 1\n",
    "# Iterate in the list\n",
    "for curr_path_csv in MAIN_LIST_FEATURE:\n",
    "    #print (curr_path_csv)\n",
    "    path_mounted_csv = curr_path_csv\n",
    "    #print(path_mounted_csv)\n",
    "    # Boca interna 1 vertical 63 e 67\n",
    "    m1 = measure_two_points_from_csv (path_mounted_csv, 63-1, 67-1, 'm1')\n",
    "    \n",
    "    # Boca externa horizontal 49 e 55\n",
    "    m3 = measure_two_points_from_csv (path_mounted_csv, 49-1, 55-1, 'm3')\n",
    "\n",
    "    # Lábios superiores 1 vertical 52 e 63\n",
    "    m4 = measure_two_points_from_csv (path_mounted_csv, 52-1, 63-1, 'm4')\n",
    "    \n",
    "    # Lábios inferiores 1 vertical 67 e 58\n",
    "    m5 = measure_two_points_from_csv (path_mounted_csv, 67-1, 58-1, 'm5')\n",
    "    \n",
    "    # Lábios horizontal superior 62 e 64\n",
    "    m6 = measure_two_points_from_csv (path_mounted_csv, 62-1, 64-1, 'm6')\n",
    "    \n",
    "    # Lábios horizontal inferior 59 e 57\n",
    "    m7 = measure_two_points_from_csv (path_mounted_csv, 59-1, 57-1, 'm7')\n",
    "    \n",
    "    # Lábio superior e nariz 34 e 52\n",
    "    m8 = measure_two_points_from_csv (path_mounted_csv, 34-1, 52-1, 'm8')\n",
    "    \n",
    "    # Lábio inferior e nariz 34 e 58\n",
    "    m9 = measure_two_points_from_csv (path_mounted_csv, 34-1, 58-1, 'm9')\n",
    "    \n",
    "    # Lábio inferior interno e nariz 34 e 67\n",
    "    m10 = measure_two_points_from_csv (path_mounted_csv, 34-1, 67-1, 'm10')\n",
    "    \n",
    "    # Boca: Traçar média entre 63 e 67 e medir paralelo vertical com 34\n",
    "    m11 = measure_vertical_two_arrays_mean (path_mounted_csv, [63-1, 67-1], [34-1], 'm11')\n",
    "    \n",
    "    # Boca-Nariz: Medir paralelo vertical entre 34 e 49\n",
    "    m12 = measure_vertical_two_arrays_mean (path_mounted_csv, [34-1], [49-1], 'm12')\n",
    "    \n",
    "    # Boca-Nariz: Medir paralelo vertical direito entre 34 e 55\n",
    "    m13 = measure_vertical_two_arrays_mean (path_mounted_csv, [34-1], [55-1], 'm13')\n",
    "    \n",
    "    # Boca: Traçar média entre 49 e 55 e medir paralelo vertical com 52\n",
    "    m14 = measure_vertical_two_arrays_mean (path_mounted_csv, [49-1, 55-1], [52-1], 'm14')\n",
    "    \n",
    "    # Boca: Traçar média entre 49 e 55 e medir paralelo vertical com 58\n",
    "    m15 = measure_vertical_two_arrays_mean (path_mounted_csv, [49-1, 55-1], [58-1], 'm15')\n",
    "    \n",
    "    # Boca: Traçar média entre 49 e 55 e medir paralelo vertical com 67\n",
    "    m16 = measure_vertical_two_arrays_mean (path_mounted_csv, [49-1, 55-1], [67], 'm16')\n",
    "    \n",
    "    # Boca: Traçar média entre 49 e 55 e medir paralelo vertical com 63\n",
    "    m17 = measure_vertical_two_arrays_mean (path_mounted_csv, [49-1, 55-1], [63], 'm17')\n",
    "    \n",
    "    # Olho esquerdo vertical 38 e 42\n",
    "    e1 = measure_two_points_from_csv (path_mounted_csv, 38-1, 42-1, 'e1')\n",
    "    \n",
    "    # Olho direito vertical 44 e 48\n",
    "    e2 = measure_two_points_from_csv (path_mounted_csv, 44-1, 48-1, 'e2')\n",
    "    \n",
    "    # Olho: Distância vertical olho direito2 com média entre os pontos 45-44 e 47-48\n",
    "    e3 = measure_vertical_two_arrays_mean (path_mounted_csv, [45-1, 44-1], [47-1, 48-1], 'e3')\n",
    "    \n",
    "    # Sobrancelha-Nariz: Medir paralelo vertical esquerda entre 28 e 20\n",
    "    b1 = measure_vertical_two_arrays_mean (path_mounted_csv, [28-1], [20-1], 'b1')\n",
    "    \n",
    "    # Sobrancelha-Nariz: Medir paralelo vertical direita entre 28 e 25\n",
    "    b2 = measure_vertical_two_arrays_mean (path_mounted_csv, [28-1], [25-1], 'b2')\n",
    "    \n",
    "    # Sobrancelhas horizontal 22 e 23\n",
    "    b3 = measure_two_points_from_csv (path_mounted_csv, 22-1, 23-1, 'b3')\n",
    "    \n",
    "    \n",
    "    # Join the dataframes\n",
    "    MEASRE_DATA_FRAME_CURRENT = pd.concat([m1, m3, m4, m5, m6, m7, m8, m9, m10, m11, m12, m13, m14, m15, m16, m17, \n",
    "                                           e1, e2, e3,\n",
    "                                          b1, b2, b3], axis=1)\n",
    "\n",
    "    # Save frame_seq collumn on MEASURE_DATA_FRAME\n",
    "    csv_data_frame_in = pd.read_csv(curr_path_csv)\n",
    "    # Remove the Unamed columns\n",
    "    # csv_data_frame_in.drop(columns=[\"Unnamed: 0\"], inplace=True)\n",
    "    MEASRE_DATA_FRAME_CURRENT.insert(0, 'frame_seq',  csv_data_frame_in['frame_seq'])\n",
    "    \n",
    "    # Save CSV\n",
    "    # Collect the current path\n",
    "    base_path_folder_output = collect_current_path(curr_path_csv) + output_measure_name\n",
    "    ## Count Process\n",
    "    print (str(ptr) + \" of \" + str(len(MAIN_LIST_FEATURE)) + \": \" + base_path_folder_output)\n",
    "    ptr=+1\n",
    "    #print (base_path_folder_output)\n",
    "    # Generate the OUTPUT CSV in the current folder\n",
    "    MEASRE_DATA_FRAME_CURRENT.to_csv(base_path_folder_output + \".CSV\")\n",
    "#"
   ]
  },
  {
   "cell_type": "code",
   "execution_count": 17,
   "metadata": {},
   "outputs": [],
   "source": [
    "#<end"
   ]
  }
 ],
 "metadata": {
  "kernelspec": {
   "display_name": "biosignals-dataset_env",
   "language": "python",
   "name": "python3"
  },
  "language_info": {
   "codemirror_mode": {
    "name": "ipython",
    "version": 3
   },
   "file_extension": ".py",
   "mimetype": "text/x-python",
   "name": "python",
   "nbconvert_exporter": "python",
   "pygments_lexer": "ipython3",
   "version": "3.10.15"
  }
 },
 "nbformat": 4,
 "nbformat_minor": 4
}
