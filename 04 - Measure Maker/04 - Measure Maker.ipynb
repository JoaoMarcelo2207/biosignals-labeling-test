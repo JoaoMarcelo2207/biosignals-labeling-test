{
 "cells": [
  {
   "cell_type": "markdown",
   "metadata": {},
   "source": [
    "# Import dependencies"
   ]
  },
  {
   "cell_type": "code",
   "execution_count": 9,
   "metadata": {},
   "outputs": [],
   "source": [
    "import os\n",
    "import sys\n",
    "import pandas as pd \n",
    "\n",
    "# Import library with current code functions\n",
    "sys.path.append(os.path.join(\"..\", \"lib\"))\n",
    "import measure_maker_functions as meas_mak_fun, files_paths as fp, general_functions as gf"
   ]
  },
  {
   "cell_type": "markdown",
   "metadata": {},
   "source": [
    "## Filter witch videos already has the VD_MEASURE_L0 file and remove them from the list"
   ]
  },
  {
   "cell_type": "code",
   "execution_count": 10,
   "metadata": {},
   "outputs": [],
   "source": [
    "FILE_LIST_FEATURE_L3 = gf.find_files_in_all_subdirectories([fp.DATASET_YT_NOT_NORMALIZED, fp.DATASET_LOCAL_NOT_NORMALIZED], fp.VD_FEATURES_L2)\n",
    "\n",
    "FILE_LIST_FEATURE_L3_FILTERED = [path for path in FILE_LIST_FEATURE_L3 if not os.path.exists(os.path.join(os.path.dirname(path), fp.VD_MEASURE_L0))]"
   ]
  },
  {
   "cell_type": "code",
   "execution_count": 12,
   "metadata": {},
   "outputs": [
    {
     "name": "stdout",
     "output_type": "stream",
     "text": [
      "1 of 42: ..\\Dataset_not_normalized\\YT-Online_not_normalized\\VD_Y_0000000001\\VD_MEASURE_L0.CSV\n",
      "2 of 42: ..\\Dataset_not_normalized\\YT-Online_not_normalized\\VD_Y_0000000002\\VD_MEASURE_L0.CSV\n",
      "3 of 42: ..\\Dataset_not_normalized\\YT-Online_not_normalized\\VD_Y_0000000003\\VD_MEASURE_L0.CSV\n",
      "4 of 42: ..\\Dataset_not_normalized\\YT-Online_not_normalized\\VD_Y_0000000004\\VD_MEASURE_L0.CSV\n",
      "5 of 42: ..\\Dataset_not_normalized\\YT-Online_not_normalized\\VD_Y_0000000005\\VD_MEASURE_L0.CSV\n",
      "6 of 42: ..\\Dataset_not_normalized\\YT-Online_not_normalized\\VD_Y_0000000006\\VD_MEASURE_L0.CSV\n",
      "7 of 42: ..\\Dataset_not_normalized\\YT-Online_not_normalized\\VD_Y_0000000007\\VD_MEASURE_L0.CSV\n",
      "8 of 42: ..\\Dataset_not_normalized\\YT-Online_not_normalized\\VD_Y_0000000008\\VD_MEASURE_L0.CSV\n",
      "9 of 42: ..\\Dataset_not_normalized\\YT-Online_not_normalized\\VD_Y_0000000009\\VD_MEASURE_L0.CSV\n"
     ]
    },
    {
     "ename": "KeyboardInterrupt",
     "evalue": "",
     "output_type": "error",
     "traceback": [
      "\u001b[1;31m---------------------------------------------------------------------------\u001b[0m",
      "\u001b[1;31mKeyboardInterrupt\u001b[0m                         Traceback (most recent call last)",
      "Cell \u001b[1;32mIn[12], line 29\u001b[0m\n\u001b[0;32m     26\u001b[0m m9 \u001b[38;5;241m=\u001b[39m meas_mak_fun\u001b[38;5;241m.\u001b[39mmeasure_two_points_from_csv(current_file_path, \u001b[38;5;241m34\u001b[39m\u001b[38;5;241m-\u001b[39m\u001b[38;5;241m1\u001b[39m, \u001b[38;5;241m58\u001b[39m\u001b[38;5;241m-\u001b[39m\u001b[38;5;241m1\u001b[39m, \u001b[38;5;124m'\u001b[39m\u001b[38;5;124mm9\u001b[39m\u001b[38;5;124m'\u001b[39m)\n\u001b[0;32m     28\u001b[0m \u001b[38;5;66;03m# Internal lower lip and nose 34 and 67\u001b[39;00m\n\u001b[1;32m---> 29\u001b[0m m10 \u001b[38;5;241m=\u001b[39m \u001b[43mmeas_mak_fun\u001b[49m\u001b[38;5;241;43m.\u001b[39;49m\u001b[43mmeasure_two_points_from_csv\u001b[49m\u001b[43m(\u001b[49m\u001b[43mcurrent_file_path\u001b[49m\u001b[43m,\u001b[49m\u001b[43m \u001b[49m\u001b[38;5;241;43m34\u001b[39;49m\u001b[38;5;241;43m-\u001b[39;49m\u001b[38;5;241;43m1\u001b[39;49m\u001b[43m,\u001b[49m\u001b[43m \u001b[49m\u001b[38;5;241;43m67\u001b[39;49m\u001b[38;5;241;43m-\u001b[39;49m\u001b[38;5;241;43m1\u001b[39;49m\u001b[43m,\u001b[49m\u001b[43m \u001b[49m\u001b[38;5;124;43m'\u001b[39;49m\u001b[38;5;124;43mm10\u001b[39;49m\u001b[38;5;124;43m'\u001b[39;49m\u001b[43m)\u001b[49m\n\u001b[0;32m     31\u001b[0m \u001b[38;5;66;03m# Mouth: Draw average between 63 and 67 and measure vertical parallel with 34\u001b[39;00m\n\u001b[0;32m     32\u001b[0m m11 \u001b[38;5;241m=\u001b[39m meas_mak_fun\u001b[38;5;241m.\u001b[39mmeasure_vertical_two_arrays_mean(current_file_path, [\u001b[38;5;241m63\u001b[39m\u001b[38;5;241m-\u001b[39m\u001b[38;5;241m1\u001b[39m, \u001b[38;5;241m67\u001b[39m\u001b[38;5;241m-\u001b[39m\u001b[38;5;241m1\u001b[39m], [\u001b[38;5;241m34\u001b[39m\u001b[38;5;241m-\u001b[39m\u001b[38;5;241m1\u001b[39m], \u001b[38;5;124m'\u001b[39m\u001b[38;5;124mm11\u001b[39m\u001b[38;5;124m'\u001b[39m)\n",
      "File \u001b[1;32md:\\Estagio\\biosignals-time-series-dataset\\04 - Measure Maker\\..\\lib\\measure_maker_functions.py:29\u001b[0m, in \u001b[0;36mmeasure_two_points_from_csv\u001b[1;34m(path_csv_file, LANDMK_INIT_PT, LANDMK_END_PT, measure_name)\u001b[0m\n\u001b[0;32m     26\u001b[0m POINT_END_XYLMK \u001b[38;5;241m=\u001b[39m np\u001b[38;5;241m.\u001b[39masarray(\u001b[38;5;28meval\u001b[39m(csv_data_frame_in[\u001b[38;5;28mstr\u001b[39m(LANDMK_END_PT)][idx]))\n\u001b[0;32m     28\u001b[0m \u001b[38;5;66;03m# Measure\u001b[39;00m\n\u001b[1;32m---> 29\u001b[0m distance_open_mouth_basic \u001b[38;5;241m=\u001b[39m \u001b[43mnp\u001b[49m\u001b[38;5;241;43m.\u001b[39;49m\u001b[43mlinalg\u001b[49m\u001b[38;5;241;43m.\u001b[39;49m\u001b[43mnorm\u001b[49m\u001b[43m(\u001b[49m\u001b[43mPOINT_END_XYLMK\u001b[49m\u001b[43m \u001b[49m\u001b[38;5;241;43m-\u001b[39;49m\u001b[43m \u001b[49m\u001b[43mPOINT_INIT_XYLMK\u001b[49m\u001b[43m)\u001b[49m \n\u001b[0;32m     31\u001b[0m \u001b[38;5;66;03m# Append in the array\u001b[39;00m\n\u001b[0;32m     32\u001b[0m CSV_IN_MEASUREMENTS\u001b[38;5;241m.\u001b[39mappend(distance_open_mouth_basic)\n",
      "File \u001b[1;32md:\\miniconda3\\envs\\biosignals-dataset_env\\lib\\site-packages\\numpy\\linalg\\linalg.py:2552\u001b[0m, in \u001b[0;36mnorm\u001b[1;34m(x, ord, axis, keepdims)\u001b[0m\n\u001b[0;32m   2550\u001b[0m     sqnorm \u001b[38;5;241m=\u001b[39m x_real\u001b[38;5;241m.\u001b[39mdot(x_real) \u001b[38;5;241m+\u001b[39m x_imag\u001b[38;5;241m.\u001b[39mdot(x_imag)\n\u001b[0;32m   2551\u001b[0m \u001b[38;5;28;01melse\u001b[39;00m:\n\u001b[1;32m-> 2552\u001b[0m     sqnorm \u001b[38;5;241m=\u001b[39m \u001b[43mx\u001b[49m\u001b[38;5;241;43m.\u001b[39;49m\u001b[43mdot\u001b[49m\u001b[43m(\u001b[49m\u001b[43mx\u001b[49m\u001b[43m)\u001b[49m\n\u001b[0;32m   2553\u001b[0m ret \u001b[38;5;241m=\u001b[39m sqrt(sqnorm)\n\u001b[0;32m   2554\u001b[0m \u001b[38;5;28;01mif\u001b[39;00m keepdims:\n",
      "\u001b[1;31mKeyboardInterrupt\u001b[0m: "
     ]
    }
   ],
   "source": [
    "# Iterate over the filtered feature list\n",
    "for i, current_file_path in enumerate(FILE_LIST_FEATURE_L3_FILTERED):\n",
    "\n",
    "    # Internal mouth 1 vertical 63 and 67\n",
    "    m1 = meas_mak_fun.measure_two_points_from_csv(current_file_path, 63-1, 67-1, 'm1')\n",
    "    \n",
    "    # External mouth horizontal 49 and 55\n",
    "    m3 = meas_mak_fun.measure_two_points_from_csv(current_file_path, 49-1, 55-1, 'm3')\n",
    "\n",
    "    # Upper lips 1 vertical 52 and 63\n",
    "    m4 = meas_mak_fun.measure_two_points_from_csv(current_file_path, 52-1, 63-1, 'm4')\n",
    "    \n",
    "    # Lower lips 1 vertical 67 and 58\n",
    "    m5 = meas_mak_fun.measure_two_points_from_csv(current_file_path, 67-1, 58-1, 'm5')\n",
    "    \n",
    "    # Upper lips horizontal 62 and 64\n",
    "    m6 = meas_mak_fun.measure_two_points_from_csv(current_file_path, 62-1, 64-1, 'm6')\n",
    "    \n",
    "    # Lower lips horizontal 59 and 57\n",
    "    m7 = meas_mak_fun.measure_two_points_from_csv(current_file_path, 59-1, 57-1, 'm7')\n",
    "    \n",
    "    # Upper lip and nose 34 and 52\n",
    "    m8 = meas_mak_fun.measure_two_points_from_csv(current_file_path, 34-1, 52-1, 'm8')\n",
    "    \n",
    "    # Lower lip and nose 34 and 58\n",
    "    m9 = meas_mak_fun.measure_two_points_from_csv(current_file_path, 34-1, 58-1, 'm9')\n",
    "    \n",
    "    # Internal lower lip and nose 34 and 67\n",
    "    m10 = meas_mak_fun.measure_two_points_from_csv(current_file_path, 34-1, 67-1, 'm10')\n",
    "    \n",
    "    # Mouth: Draw average between 63 and 67 and measure vertical parallel with 34\n",
    "    m11 = meas_mak_fun.measure_vertical_two_arrays_mean(current_file_path, [63-1, 67-1], [34-1], 'm11')\n",
    "    \n",
    "    # Mouth-Nose: Measure vertical parallel between 34 and 49\n",
    "    m12 = meas_mak_fun.measure_vertical_two_arrays_mean(current_file_path, [34-1], [49-1], 'm12')\n",
    "    \n",
    "    # Mouth-Nose: Measure right vertical parallel between 34 and 55\n",
    "    m13 = meas_mak_fun.measure_vertical_two_arrays_mean(current_file_path, [34-1], [55-1], 'm13')\n",
    "    \n",
    "    # Mouth: Draw average between 49 and 55 and measure vertical parallel with 52\n",
    "    m14 = meas_mak_fun.measure_vertical_two_arrays_mean(current_file_path, [49-1, 55-1], [52-1], 'm14')\n",
    "    \n",
    "    # Mouth: Draw average between 49 and 55 and measure vertical parallel with 58\n",
    "    m15 = meas_mak_fun.measure_vertical_two_arrays_mean(current_file_path, [49-1, 55-1], [58-1], 'm15')\n",
    "    \n",
    "    # Mouth: Draw average between 49 and 55 and measure vertical parallel with 67\n",
    "    m16 = meas_mak_fun.measure_vertical_two_arrays_mean(current_file_path, [49-1, 55-1], [67], 'm16')\n",
    "    \n",
    "    # Mouth: Draw average between 49 and 55 and measure vertical parallel with 63\n",
    "    m17 = meas_mak_fun.measure_vertical_two_arrays_mean(current_file_path, [49-1, 55-1], [63], 'm17')\n",
    "    \n",
    "    # Left eye vertical 38 and 42\n",
    "    e1 = meas_mak_fun.measure_two_points_from_csv(current_file_path, 38-1, 42-1, 'e1')\n",
    "    \n",
    "    # Right eye vertical 44 and 48\n",
    "    e2 = meas_mak_fun.measure_two_points_from_csv(current_file_path, 44-1, 48-1, 'e2')\n",
    "    \n",
    "    # Eye: Vertical distance right eye 2 with average between points 45-44 and 47-48\n",
    "    e3 = meas_mak_fun.measure_vertical_two_arrays_mean(current_file_path, [45-1, 44-1], [47-1, 48-1], 'e3')\n",
    "    \n",
    "    # Eyebrow-Nose: Measure left vertical parallel between 28 and 20\n",
    "    b1 = meas_mak_fun.measure_vertical_two_arrays_mean(current_file_path, [28-1], [20-1], 'b1')\n",
    "    \n",
    "    # Eyebrow-Nose: Measure right vertical parallel between 28 and 25\n",
    "    b2 = meas_mak_fun.measure_vertical_two_arrays_mean(current_file_path, [28-1], [25-1], 'b2')\n",
    "    \n",
    "    # Eyebrows horizontal 22 and 23\n",
    "    b3 = meas_mak_fun.measure_two_points_from_csv(current_file_path, 22-1, 23-1, 'b3')\n",
    "    \n",
    "    # Join the dataframes\n",
    "    MEASURE_DATA_FRAME_CURRENT = pd.concat([m1, m3, m4, m5, m6, m7, m8, m9, m10, m11, m12, m13, m14, m15, m16, m17, \n",
    "                                           e1, e2, e3,\n",
    "                                          b1, b2, b3], axis=1)\n",
    "    \n",
    "    # Save frame_seq column on MEASURE_DATA_FRAME\n",
    "    csv_data_frame_in = pd.read_csv(current_file_path)\n",
    "\n",
    "    MEASURE_DATA_FRAME_CURRENT.insert(0, 'video_id',  csv_data_frame_in['video_id'])\n",
    "    MEASURE_DATA_FRAME_CURRENT.insert(1, 'frame_seq',  csv_data_frame_in['frame_seq'])\n",
    "    MEASURE_DATA_FRAME_CURRENT.insert(2, 'gap',  csv_data_frame_in['gap'])\n",
    "    MEASURE_DATA_FRAME_CURRENT.insert(3, 'time_seconds',  csv_data_frame_in['time_seconds'])\n",
    "    \n",
    "    # Collect the current path\n",
    "    base_path_folder_output = os.path.join(os.path.dirname(current_file_path), fp.VD_MEASURE_L0)\n",
    "    \n",
    "    # Count Process\n",
    "    print(str(i+1) + \" of \" + str(len(FILE_LIST_FEATURE_L3_FILTERED)) + \": \" + base_path_folder_output)\n",
    "    \n",
    "    # Generate the OUTPUT CSV in the current folder\n",
    "    MEASURE_DATA_FRAME_CURRENT.to_csv(base_path_folder_output)"
   ]
  }
 ],
 "metadata": {
  "kernelspec": {
   "display_name": "biosignals-dataset_env",
   "language": "python",
   "name": "python3"
  },
  "language_info": {
   "codemirror_mode": {
    "name": "ipython",
    "version": 3
   },
   "file_extension": ".py",
   "mimetype": "text/x-python",
   "name": "python",
   "nbconvert_exporter": "python",
   "pygments_lexer": "ipython3",
   "version": "3.10.15"
  }
 },
 "nbformat": 4,
 "nbformat_minor": 4
}
