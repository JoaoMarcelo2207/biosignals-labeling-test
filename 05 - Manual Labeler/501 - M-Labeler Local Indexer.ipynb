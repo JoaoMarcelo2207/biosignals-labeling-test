{
 "cells": [
  {
   "cell_type": "markdown",
   "metadata": {},
   "source": [
    "# Import dependencies"
   ]
  },
  {
   "cell_type": "code",
   "execution_count": 1,
   "metadata": {},
   "outputs": [],
   "source": [
    "import os\n",
    "import sys\n",
    "import pandas as pd\n",
    "\n",
    "# Import library with current code functions\n",
    "sys.path.append(os.path.join(\"..\", \"lib\"))\n",
    "import indexer_functions as indx_fun, general_functions as gf, files_paths as fp"
   ]
  },
  {
   "cell_type": "markdown",
   "metadata": {},
   "source": [
    "## Defining variables"
   ]
  },
  {
   "cell_type": "code",
   "execution_count": 2,
   "metadata": {},
   "outputs": [],
   "source": [
    "FILE_LIST_VD_REF_SEED = gf.find_files_in_all_subdirectories([fp.VIDEO_SOURCE_SEED], '*' + '.mp4')\n",
    "FILE_LIST_VD_INFO = gf.find_files_in_all_subdirectories([fp.DATASET_SEED], fp.VD_INFO)\n",
    "VIDEOS_NAMES = [gf.get_file_name(current_path_location, '.mp4') for current_path_location in FILE_LIST_VD_REF_SEED]"
   ]
  },
  {
   "cell_type": "markdown",
   "metadata": {},
   "source": [
    "## Check which videos has the INFO file"
   ]
  },
  {
   "cell_type": "code",
   "execution_count": 4,
   "metadata": {},
   "outputs": [],
   "source": [
    "for file in FILE_LIST_VD_INFO:\n",
    "    video_info = pd.read_csv(file)\n",
    "    video_id = video_info['link_video'][0]\n",
    "    if video_id in VIDEOS_NAMES:\n",
    "        VIDEOS_NAMES.remove(video_id)"
   ]
  },
  {
   "cell_type": "code",
   "execution_count": 6,
   "metadata": {},
   "outputs": [
    {
     "name": "stdout",
     "output_type": "stream",
     "text": [
      "1 of 48 : Starting to process the 295xopXuU5E_others_1\n",
      "2 of 48 : Starting to process the 295xopXuU5E_others_2\n",
      "3 of 48 : Starting to process the 2q_eNp4mDGU_others_1\n",
      "4 of 48 : Starting to process the 2q_eNp4mDGU_others_2\n",
      "5 of 48 : Starting to process the 2q_eNp4mDGU_others_3\n",
      "6 of 48 : Starting to process the 4W09LPCCJ4U_others_1\n",
      "7 of 48 : Starting to process the 4W09LPCCJ4U_others_2\n",
      "8 of 48 : Starting to process the 5KY8V6HBAro_others_1\n",
      "9 of 48 : Starting to process the 5KY8V6HBAro_others_2\n",
      "10 of 48 : Starting to process the 5KY8V6HBAro_others_3\n",
      "11 of 48 : Starting to process the 61gzN0c9K3g_others_1\n",
      "12 of 48 : Starting to process the 61gzN0c9K3g_others_2\n",
      "13 of 48 : Starting to process the 61gzN0c9K3g_others_3\n",
      "14 of 48 : Starting to process the 61gzN0c9K3g_others_4\n",
      "15 of 48 : Starting to process the 61gzN0c9K3g_others_5\n",
      "16 of 48 : Starting to process the 6koC82XF9bc_others_1\n",
      "17 of 48 : Starting to process the 6koC82XF9bc_others_2\n",
      "18 of 48 : Starting to process the 6koC82XF9bc_others_3\n",
      "19 of 48 : Starting to process the 6koC82XF9bc_others_4\n",
      "20 of 48 : Starting to process the 8hDfY5JR4Ic_others_1\n",
      "21 of 48 : Starting to process the 8hDfY5JR4Ic_others_2\n",
      "22 of 48 : Starting to process the 8hDfY5JR4Ic_others_3\n",
      "23 of 48 : Starting to process the AjHji_Ff4Mc_others_1\n",
      "24 of 48 : Starting to process the AjHji_Ff4Mc_others_2\n",
      "25 of 48 : Starting to process the AjHji_Ff4Mc_others_3\n",
      "26 of 48 : Starting to process the Gerôncio Henrique Neto_others_1\n",
      "27 of 48 : Starting to process the Gerôncio Henrique Neto_others_2\n",
      "28 of 48 : Starting to process the Gerôncio Henrique Neto_others_3\n",
      "29 of 48 : Starting to process the Gerôncio Henrique Neto_others_4\n",
      "30 of 48 : Starting to process the Gerôncio Henrique Neto_others_5\n",
      "31 of 48 : Starting to process the H9HzZV6pW7g_others_1\n",
      "32 of 48 : Starting to process the H9HzZV6pW7g_others_2\n",
      "33 of 48 : Starting to process the JrdZ63GIL8k_others_1\n",
      "34 of 48 : Starting to process the JrdZ63GIL8k_others_2\n",
      "35 of 48 : Starting to process the Ka19xzJ_DQw_others_1\n",
      "36 of 48 : Starting to process the Ka19xzJ_DQw_others_2\n",
      "37 of 48 : Starting to process the Ka19xzJ_DQw_others_3\n",
      "38 of 48 : Starting to process the Ka19xzJ_DQw_others_4\n",
      "39 of 48 : Starting to process the Ka19xzJ_DQw_others_5\n",
      "40 of 48 : Starting to process the Kfp0e9qlVyc_others_1\n",
      "41 of 48 : Starting to process the caX-uN1uCqY_others_1\n",
      "42 of 48 : Starting to process the caX-uN1uCqY_others_2\n",
      "43 of 48 : Starting to process the hBdjcicU78E_others_1\n",
      "44 of 48 : Starting to process the hBdjcicU78E_others_2\n",
      "45 of 48 : Starting to process the hBdjcicU78E_others_3\n",
      "46 of 48 : Starting to process the hBdjcicU78E_others_4\n",
      "47 of 48 : Starting to process the museu_da_pessoa_1_others_1\n",
      "48 of 48 : Starting to process the museu_da_pessoa_1_others_2\n"
     ]
    }
   ],
   "source": [
    "number_of_videos = len(VIDEOS_NAMES)\n",
    "VIDEO_ID = gf.collect_next_video_id(FILE_LIST_VD_INFO)\n",
    "FOLDER_PREFIX = \"VD_R_\"\n",
    "ORIGIN_VID = 'D'\n",
    "\n",
    "for i, video_name in enumerate(VIDEOS_NAMES):\n",
    "    current_path_location = os.path.join(fp.VIDEO_SOURCE_SEED, video_name + '.mp4')\n",
    "\n",
    "    print (str(i+1) + \" of \" + str(number_of_videos) + \" : \" + \"Starting to process the \" + video_name)\n",
    "    \n",
    "    INFO_COLLECTED_SUCCESSFULLY, SHAPE_ORIGINAL, DURATION_ORIGINAL, FPS_ORIGINAL = gf.collect_video_info(current_path_location)\n",
    "\n",
    "    if INFO_COLLECTED_SUCCESSFULLY:\n",
    "        indx_fun.create_vd_info(VIDEO_ID, DURATION_ORIGINAL, FPS_ORIGINAL, SHAPE_ORIGINAL, FOLDER_PREFIX, fp.DATASET_SEED, fp.VD_INFO, video_name, ORIGIN_VID)\n",
    "        VIDEO_ID += 1"
   ]
  }
 ],
 "metadata": {
  "kernelspec": {
   "display_name": "biosignals-dataset_env",
   "language": "python",
   "name": "python3"
  },
  "language_info": {
   "codemirror_mode": {
    "name": "ipython",
    "version": 3
   },
   "file_extension": ".py",
   "mimetype": "text/x-python",
   "name": "python",
   "nbconvert_exporter": "python",
   "pygments_lexer": "ipython3",
   "version": "3.10.15"
  }
 },
 "nbformat": 4,
 "nbformat_minor": 4
}
