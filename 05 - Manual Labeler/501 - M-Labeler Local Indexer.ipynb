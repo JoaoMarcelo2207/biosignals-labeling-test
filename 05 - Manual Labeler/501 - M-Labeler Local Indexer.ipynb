{
 "cells": [
  {
   "cell_type": "markdown",
   "metadata": {},
   "source": [
    "# Import dependencies"
   ]
  },
  {
   "cell_type": "code",
   "execution_count": 1,
   "metadata": {},
   "outputs": [],
   "source": [
    "import os\n",
    "import sys\n",
    "import pandas as pd\n",
    "\n",
    "# Import library with current code functions\n",
    "sys.path.append(os.path.join(\"..\", \"lib\"))\n",
    "import indexer_functions as indx_fun, general_functions as gf, files_paths as fp"
   ]
  },
  {
   "cell_type": "markdown",
   "metadata": {},
   "source": [
    "## Defining variables"
   ]
  },
  {
   "cell_type": "code",
   "execution_count": 2,
   "metadata": {},
   "outputs": [],
   "source": [
    "FILE_LIST_VD_REF_SEED = gf.find_files_in_all_subdirectories([fp.VIDEO_SOURCE_SEED], '*' + '.mp4')\n",
    "FILE_LIST_VD_INFO = gf.find_files_in_all_subdirectories([fp.DATASET_SEED], fp.VD_INFO)\n",
    "VIDEOS_NAMES = [gf.get_file_name(current_path_location, '.mp4') for current_path_location in FILE_LIST_VD_REF_SEED]"
   ]
  },
  {
   "cell_type": "markdown",
   "metadata": {},
   "source": [
    "## Check which videos has the INFO file"
   ]
  },
  {
   "cell_type": "code",
   "execution_count": 3,
   "metadata": {},
   "outputs": [],
   "source": [
    "for file in FILE_LIST_VD_INFO:\n",
    "    video_info = pd.read_csv(file)\n",
    "    video_id = video_info['link_video'][0]\n",
    "    if video_id in VIDEOS_NAMES:\n",
    "        VIDEOS_NAMES.remove(video_id)"
   ]
  },
  {
   "cell_type": "code",
   "execution_count": 4,
   "metadata": {},
   "outputs": [
    {
     "name": "stdout",
     "output_type": "stream",
     "text": [
      "1 of 69 : Starting to process the 30_seconds_self-introduction_sample_video_for_Online_Teaching_others_1\n",
      "2 of 69 : Starting to process the 30_seconds_self-introduction_sample_video_for_Online_Teaching_others_2\n",
      "3 of 69 : Starting to process the 30_seconds_self-introduction_sample_video_for_Online_Teaching_others_3\n",
      "4 of 69 : Starting to process the BELIFT_self-introduction_Opus_others_1\n",
      "5 of 69 : Starting to process the BELIFT_self-introduction_Opus_others_2\n",
      "6 of 69 : Starting to process the BELIFT_self-introduction_Opus_others_3\n",
      "7 of 69 : Starting to process the BELIFT_self-introduction_Opus_others_4\n",
      "8 of 69 : Starting to process the ESL_SAMPLE_SELF_INTRODUCTION _others_1\n",
      "9 of 69 : Starting to process the ESL_SAMPLE_SELF_INTRODUCTION_others_2\n",
      "10 of 69 : Starting to process the ESL_Self_Introduction_others_1\n",
      "11 of 69 : Starting to process the EXPECTATIONS_FOR_THIS_SCHOOL_YEAR!_My_First_Day_in_Senior_High_others_1\n",
      "12 of 69 : Starting to process the EXPECTATIONS_FOR_THIS_SCHOOL_YEAR!_¦_My_First_Day_in_Senior_High_others_3\n",
      "Error -> FUNC-BZ-LIB-> COL-INFO-1\n",
      "13 of 69 : Starting to process the English_teacher_introduction_video_others_1\n",
      "14 of 69 : Starting to process the English_teacher_introduction_video_others_2\n",
      "15 of 69 : Starting to process the English_teacher_introduction_video_others_3\n",
      "16 of 69 : Starting to process the English_teacher_introduction_video_others_4\n",
      "17 of 69 : Starting to process the English_teacher_introduction_video_others_5\n",
      "18 of 69 : Starting to process the How_I_introduce_myself_in_a_creative_way-_Online_Class_Version_others_1\n",
      "19 of 69 : Starting to process the How_I_introduce_myself_in_a_creative_way-_Online_Class_Version_others_2\n",
      "20 of 69 : Starting to process the How_To_Introduce_Yourself_In_An_Interview!_(The_BEST_ANSWER!)_others_1\n",
      "21 of 69 : Starting to process the How_To_Introduce_Yourself_In_An_Interview!_(The_BEST_ANSWER!)_others_2\n",
      "22 of 69 : Starting to process the How_To_Introduce_Yourself_In_An_Interview!_(The_BEST_ANSWER!)_others_3\n",
      "23 of 69 : Starting to process the How_To_Introduce_Yourself_In_An_Interview!_(The_BEST_ANSWER!)_others_4\n",
      "24 of 69 : Starting to process the How_To_Introduce_Yourself_In_An_Interview!_(The_BEST_ANSWER!)_others_5\n",
      "25 of 69 : Starting to process the How_To_Introduce_Yourself_In_An_Interview!_(The_BEST_ANSWER!)_others_6\n",
      "26 of 69 : Starting to process the How_To_Introduce_Yourself_In_An_Interview!_(The_BEST_ANSWER!)_others_7\n",
      "27 of 69 : Starting to process the How_To_Introduce_Yourself_In_An_Interview!_(The_BEST_ANSWER!)_others_8\n",
      "28 of 69 : Starting to process the How_To_Introduce_Yourself_In_An_Interview!_(The_BEST_ANSWER!)_others_9\n",
      "29 of 69 : Starting to process the How_To_Introduce_Yourself_In_Interviews_-_1_Minute_Pro_Career)_others_1\n",
      "30 of 69 : Starting to process the How_to_Give_a_60_Second_Self-Introduction_Presentation_others_1\n",
      "31 of 69 : Starting to process the How_to_Give_a_60_Second_Self-Introduction_Presentation_others_2\n",
      "32 of 69 : Starting to process the How_to_Give_a_60_Second_Self-Introduction_Presentation_others_3\n",
      "33 of 69 : Starting to process the How_to_Give_a_60_Second_Self-Introduction_Presentation_others_4\n",
      "34 of 69 : Starting to process the How_to_Give_a_60_Second_Self-Introduction_Presentation_others_5\n",
      "35 of 69 : Starting to process the How_to_Improve_Your_Communication_Skills_-4_Steps_others_1\n",
      "36 of 69 : Starting to process the How_to_Improve_Your_Communication_Skills_-4_Steps_others_10\n",
      "37 of 69 : Starting to process the How_to_Improve_Your_Communication_Skills_-4_Steps_others_2\n",
      "38 of 69 : Starting to process the How_to_Improve_Your_Communication_Skills_-4_Steps_others_3\n",
      "39 of 69 : Starting to process the How_to_Improve_Your_Communication_Skills_-4_Steps_others_4\n",
      "40 of 69 : Starting to process the How_to_Improve_Your_Communication_Skills_-4_Steps_others_5\n",
      "41 of 69 : Starting to process the How_to_Improve_Your_Communication_Skills_-4_Steps_others_6\n",
      "42 of 69 : Starting to process the How_to_Improve_Your_Communication_Skills_-4_Steps_others_7\n",
      "43 of 69 : Starting to process the How_to_Improve_Your_Communication_Skills_-4_Steps_others_8\n",
      "44 of 69 : Starting to process the How_to_Improve_Your_Communication_Skills_-4_Steps_others_9\n",
      "45 of 69 : Starting to process the How_to_Introduce_Yourself_in_English_Self_introduction_for_Job_interview_others_1\n",
      "46 of 69 : Starting to process the How_to_Introduce_yourself_when_teaching_online_others_1\n",
      "47 of 69 : Starting to process the How_to_Sell_Yourself_Effectively_in_the_Interview_others_1\n",
      "48 of 69 : Starting to process the How_to_make_a_basic_self-introduction_video_for_online_English_teaching_others_1\n",
      "49 of 69 : Starting to process the How_to_make_a_basic_self-introduction_video_for_online_English_teaching_others_2\n",
      "50 of 69 : Starting to process the How_to_start_a_presentation_others_1\n",
      "51 of 69 : Starting to process the How_to_start_a_presentation_others_2\n",
      "52 of 69 : Starting to process the How_to_start_a_presentation_others_3\n",
      "53 of 69 : Starting to process the How_to_start_a_presentation_others_4\n",
      "54 of 69 : Starting to process the How_to_start_a_presentation_others_5\n",
      "55 of 69 : Starting to process the How_to_start_a_presentation_others_6\n",
      "56 of 69 : Starting to process the Intro_Video_for_Teaching_English_in_China_others_1\n",
      "57 of 69 : Starting to process the Introduction_in_English_For_Students-Introduction_Simple_Introduction_others_1\n",
      "58 of 69 : Starting to process the MY_EXPECTATIONS_others_1\n",
      "59 of 69 : Starting to process the My_Self-Introduction_2_ESL_Online_Teaching_(Long_ver.)_others_1\n",
      "60 of 69 : Starting to process the Presentation_Introduction_Example_others_1\n",
      "61 of 69 : Starting to process the President_Biden_Announces_Vaccination_Mandate_for_Employers_others_1\n",
      "62 of 69 : Starting to process the President_Biden_Announces_Vaccination_Mandate_for_Employers_others_2\n",
      "63 of 69 : Starting to process the Self_Intro_for_Teaching_ESL_Online_Teacher_Jane_others_1\n",
      "64 of 69 : Starting to process the Self_Introduction_Video_for_College_Students_others_1\n",
      "65 of 69 : Starting to process the Self_Introduction_Video_for_College_Students_others_2\n",
      "66 of 69 : Starting to process the Self_Introduction_Video_for_College_Students_others_3\n",
      "67 of 69 : Starting to process the Where_Do_You_See_Yourself_in_5_Years_-_Ideal_Sample_Answer_others_1\n",
      "68 of 69 : Starting to process the Where_Do_You_See_Yourself_in_5_Years_-_Ideal_Sample_Answer_others_2\n",
      "69 of 69 : Starting to process the Where_Do_You_See_Yourself_in_5_Years_-_Ideal_Sample_Answer_others_3\n"
     ]
    }
   ],
   "source": [
    "number_of_videos = len(VIDEOS_NAMES)\n",
    "VIDEO_ID = gf.collect_next_video_id(FILE_LIST_VD_INFO)\n",
    "FOLDER_PREFIX = \"VD_R_\"\n",
    "ORIGIN_VID = 'D'\n",
    "\n",
    "for i, video_name in enumerate(VIDEOS_NAMES):\n",
    "    current_path_location = os.path.join(fp.VIDEO_SOURCE_SEED, video_name + '.mp4')\n",
    "\n",
    "    print (str(i+1) + \" of \" + str(number_of_videos) + \" : \" + \"Starting to process the \" + video_name)\n",
    "    \n",
    "    INFO_COLLECTED_SUCCESSFULLY, SHAPE_ORIGINAL, DURATION_ORIGINAL, FPS_ORIGINAL = gf.collect_video_info(current_path_location)\n",
    "\n",
    "    if INFO_COLLECTED_SUCCESSFULLY:\n",
    "        indx_fun.create_vd_info(VIDEO_ID, DURATION_ORIGINAL, FPS_ORIGINAL, SHAPE_ORIGINAL, FOLDER_PREFIX, fp.DATASET_SEED, fp.VD_INFO, video_name, ORIGIN_VID)\n",
    "        VIDEO_ID += 1"
   ]
  }
 ],
 "metadata": {
  "kernelspec": {
   "display_name": "bio-signals-dataset_env",
   "language": "python",
   "name": "python3"
  },
  "language_info": {
   "codemirror_mode": {
    "name": "ipython",
    "version": 3
   },
   "file_extension": ".py",
   "mimetype": "text/x-python",
   "name": "python",
   "nbconvert_exporter": "python",
   "pygments_lexer": "ipython3",
   "version": "3.10.16"
  }
 },
 "nbformat": 4,
 "nbformat_minor": 4
}
