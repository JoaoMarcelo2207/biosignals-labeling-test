{
 "cells": [
  {
   "cell_type": "markdown",
   "metadata": {},
   "source": [
    "## Importing dependencies"
   ]
  },
  {
   "cell_type": "code",
   "execution_count": 1,
   "metadata": {},
   "outputs": [],
   "source": [
    "import os\n",
    "import sys\n",
    "import pandas as pd\n",
    "\n",
    "# Import library with current code functions\n",
    "sys.path.append(os.path.join(\"..\", \"lib\"))\n",
    "import indexer_functions as indx_fun, general_functions as gf, files_paths as fp"
   ]
  },
  {
   "cell_type": "markdown",
   "metadata": {},
   "source": [
    "## Defining folders"
   ]
  },
  {
   "cell_type": "code",
   "execution_count": 2,
   "metadata": {},
   "outputs": [],
   "source": [
    "FILE_LIST_VD_LOCAL_SEED = gf.find_files_in_all_subdirectories([fp.VIDEO_SOURCE_LOCAL, fp.VIDEO_SOURCE_YT], '*' + '.mp4')\n",
    "FILE_LIST_VD_INFO = gf.find_files_in_all_subdirectories([fp.DATASET_LOCAL, fp.DATASET_YT], fp.VD_INFO)\n",
    "VIDEOS_NAMES = [gf.get_file_name(current_path_location, '.mp4') for current_path_location in FILE_LIST_VD_LOCAL_SEED]"
   ]
  },
  {
   "cell_type": "markdown",
   "metadata": {},
   "source": [
    "## Check which videos has the VD_INFO file"
   ]
  },
  {
   "cell_type": "code",
   "execution_count": 3,
   "metadata": {},
   "outputs": [],
   "source": [
    "for file in FILE_LIST_VD_INFO:\n",
    "    video_info = pd.read_csv(file)\n",
    "    video_id = video_info['link_video'][0]\n",
    "    if video_id in VIDEOS_NAMES:\n",
    "        VIDEOS_NAMES.remove(video_id)"
   ]
  },
  {
   "cell_type": "markdown",
   "metadata": {},
   "source": [
    "## Extract the information of videos files and insert at the folders"
   ]
  },
  {
   "cell_type": "code",
   "execution_count": 5,
   "metadata": {},
   "outputs": [
    {
     "name": "stdout",
     "output_type": "stream",
     "text": [
      "1 of 30 : Starting to process the 0-gQ0G2242A\n",
      "2 of 30 : Starting to process the 1PD7dkaGqFg\n",
      "3 of 30 : Starting to process the 1qWpjZJ4foY\n",
      "4 of 30 : Starting to process the 2mc2B8NZhvY\n",
      "5 of 30 : Starting to process the 5c5P8YQeymI\n",
      "6 of 30 : Starting to process the 6eJilXi33to\n",
      "7 of 30 : Starting to process the 6eNn59XvcgU\n",
      "8 of 30 : Starting to process the 6qd8QDIg21I\n",
      "9 of 30 : Starting to process the 7tzentBmmUc\n",
      "10 of 30 : Starting to process the 8LwveoDO_M8\n",
      "11 of 30 : Starting to process the Osa53-RYBk4\n",
      "12 of 30 : Starting to process the QgjkjsqAzvo\n",
      "13 of 30 : Starting to process the RchitsyoSbY\n",
      "14 of 30 : Starting to process the TQHW7gGjrCQ\n",
      "15 of 30 : Starting to process the UIDwl_kP2MU\n",
      "16 of 30 : Starting to process the WChxbBSlWnQ\n",
      "17 of 30 : Starting to process the dNnlYbndfV4\n",
      "18 of 30 : Starting to process the hXBgSCFOpPg\n",
      "19 of 30 : Starting to process the jQfVn2zakKQ\n",
      "20 of 30 : Starting to process the jSjOO0ekQ20\n",
      "21 of 30 : Starting to process the jtO9JrKyM88\n",
      "22 of 30 : Starting to process the oS5b-JSM9FY\n",
      "23 of 30 : Starting to process the p80VyQ5wLvg\n",
      "24 of 30 : Starting to process the pmWEePmqdLk\n",
      "25 of 30 : Starting to process the pxVAxVdwo_k\n",
      "26 of 30 : Starting to process the qC6ZI4KYlEQ\n",
      "27 of 30 : Starting to process the uMymGNAp_2g\n",
      "28 of 30 : Starting to process the wIQqiS4Wwi0\n",
      "29 of 30 : Starting to process the ySEXdq9evnw\n",
      "30 of 30 : Starting to process the zpOEDKGVcxA\n"
     ]
    }
   ],
   "source": [
    "number_of_videos = len(VIDEOS_NAMES)\n",
    "VIDEO_ID = gf.collect_next_video_id(FILE_LIST_VD_INFO)\n",
    "FOLDER_PREFIX = \"VD_D_\"\n",
    "ORIGIN_VID = 'D'\n",
    "\n",
    "for i, video_name in enumerate(VIDEOS_NAMES):\n",
    "    current_path_location = os.path.join(fp.VIDEO_SOURCE_YT, video_name + '.mp4')\n",
    "\n",
    "    print (str(i+1) + \" of \" + str(number_of_videos) + \" : \" + \"Starting to process the \" + video_name)\n",
    "    \n",
    "    INFO_COLLECTED_SUCCESSFULLY, SHAPE_ORIGINAL, DURATION_ORIGINAL, FPS_ORIGINAL = gf.collect_video_info(current_path_location)\n",
    "\n",
    "    if INFO_COLLECTED_SUCCESSFULLY:\n",
    "        indx_fun.create_vd_info(VIDEO_ID, DURATION_ORIGINAL, FPS_ORIGINAL, SHAPE_ORIGINAL, FOLDER_PREFIX, fp.DATASET_LOCAL, fp.VD_INFO, video_name, ORIGIN_VID)\n",
    "        VIDEO_ID += 1"
   ]
  }
 ],
 "metadata": {
  "kernelspec": {
   "display_name": "biosignals-dataset_env",
   "language": "python",
   "name": "python3"
  },
  "language_info": {
   "codemirror_mode": {
    "name": "ipython",
    "version": 3
   },
   "file_extension": ".py",
   "mimetype": "text/x-python",
   "name": "python",
   "nbconvert_exporter": "python",
   "pygments_lexer": "ipython3",
   "version": "3.10.15"
  }
 },
 "nbformat": 4,
 "nbformat_minor": 4
}
